{
 "cells": [
  {
   "cell_type": "markdown",
   "metadata": {},
   "source": [
    "### Velocity estimation\n",
    "\n",
    "Let the flow rate at the mid-point in the flume be described by\n",
    "\n",
    "$Q(t)=Q_0\\sin(\\omega t)$\n",
    "\n",
    "where $Q_0$ is the peak flow rate and $\\omega=2\\pi/T$ where $T$ is the period for the forcing.\n",
    "\n",
    "The peak flow rate ($Q_0$) at the mid point of the working section is linearly dependant on the peak motor revolutions per minute ($RPM_0$). \n",
    "\n",
    "$Q_0=\\beta \\frac{\\pi RPM_0^2}{4\\omega}$\n",
    "\n",
    "The constant of proportionality ($\\beta$) between $RPM$ and $U_0$ has a nonlinear dependance on the flow depth ($h$) and the flow radial velocity ($\\omega=2\\pi/T$), where T is the period of the forcing. There is a the period dependant attenution of horizontal velocity due to the oscillatory boundary layer.\n"
   ]
  },
  {
   "cell_type": "code",
   "execution_count": 1,
   "metadata": {},
   "outputs": [],
   "source": [
    "import numpy as np\n",
    "import scipy.io\n",
    "import pandas as pd"
   ]
  },
  {
   "cell_type": "markdown",
   "metadata": {},
   "source": [
    "At present the analytical expression for $\\beta=f(h,\\omega)$ has not been determined however a number of values for $\\beta$ have been derived experimentally for some combinations of $h$ and $T$."
   ]
  },
  {
   "cell_type": "code",
   "execution_count": 2,
   "metadata": {},
   "outputs": [
    {
     "data": {
      "text/html": [
       "<div>\n",
       "<style scoped>\n",
       "    .dataframe tbody tr th:only-of-type {\n",
       "        vertical-align: middle;\n",
       "    }\n",
       "\n",
       "    .dataframe tbody tr th {\n",
       "        vertical-align: top;\n",
       "    }\n",
       "\n",
       "    .dataframe thead th {\n",
       "        text-align: right;\n",
       "    }\n",
       "</style>\n",
       "<table border=\"1\" class=\"dataframe\">\n",
       "  <thead>\n",
       "    <tr style=\"text-align: right;\">\n",
       "      <th></th>\n",
       "      <th>h</th>\n",
       "      <th>T</th>\n",
       "      <th>beta</th>\n",
       "    </tr>\n",
       "    <tr>\n",
       "      <th>sample</th>\n",
       "      <th></th>\n",
       "      <th></th>\n",
       "      <th></th>\n",
       "    </tr>\n",
       "  </thead>\n",
       "  <tbody>\n",
       "    <tr>\n",
       "      <th>0</th>\n",
       "      <td>0.023</td>\n",
       "      <td>133.0</td>\n",
       "      <td>1.449026e+07</td>\n",
       "    </tr>\n",
       "    <tr>\n",
       "      <th>1</th>\n",
       "      <td>0.023</td>\n",
       "      <td>240.0</td>\n",
       "      <td>2.065100e+07</td>\n",
       "    </tr>\n",
       "    <tr>\n",
       "      <th>2</th>\n",
       "      <td>0.033</td>\n",
       "      <td>67.0</td>\n",
       "      <td>9.256365e+06</td>\n",
       "    </tr>\n",
       "    <tr>\n",
       "      <th>3</th>\n",
       "      <td>0.033</td>\n",
       "      <td>83.0</td>\n",
       "      <td>NaN</td>\n",
       "    </tr>\n",
       "    <tr>\n",
       "      <th>4</th>\n",
       "      <td>0.033</td>\n",
       "      <td>87.0</td>\n",
       "      <td>9.510436e+06</td>\n",
       "    </tr>\n",
       "    <tr>\n",
       "      <th>5</th>\n",
       "      <td>0.033</td>\n",
       "      <td>120.0</td>\n",
       "      <td>1.238600e+07</td>\n",
       "    </tr>\n",
       "    <tr>\n",
       "      <th>6</th>\n",
       "      <td>0.033</td>\n",
       "      <td>240.0</td>\n",
       "      <td>1.551260e+07</td>\n",
       "    </tr>\n",
       "    <tr>\n",
       "      <th>7</th>\n",
       "      <td>0.043</td>\n",
       "      <td>67.0</td>\n",
       "      <td>1.010860e+07</td>\n",
       "    </tr>\n",
       "    <tr>\n",
       "      <th>8</th>\n",
       "      <td>0.043</td>\n",
       "      <td>110.0</td>\n",
       "      <td>1.067022e+07</td>\n",
       "    </tr>\n",
       "    <tr>\n",
       "      <th>9</th>\n",
       "      <td>0.043</td>\n",
       "      <td>150.0</td>\n",
       "      <td>NaN</td>\n",
       "    </tr>\n",
       "    <tr>\n",
       "      <th>10</th>\n",
       "      <td>0.043</td>\n",
       "      <td>160.0</td>\n",
       "      <td>1.180217e+07</td>\n",
       "    </tr>\n",
       "    <tr>\n",
       "      <th>11</th>\n",
       "      <td>0.043</td>\n",
       "      <td>240.0</td>\n",
       "      <td>1.296591e+07</td>\n",
       "    </tr>\n",
       "    <tr>\n",
       "      <th>12</th>\n",
       "      <td>0.053</td>\n",
       "      <td>67.0</td>\n",
       "      <td>1.058155e+07</td>\n",
       "    </tr>\n",
       "    <tr>\n",
       "      <th>13</th>\n",
       "      <td>0.053</td>\n",
       "      <td>90.0</td>\n",
       "      <td>NaN</td>\n",
       "    </tr>\n",
       "    <tr>\n",
       "      <th>14</th>\n",
       "      <td>0.053</td>\n",
       "      <td>100.0</td>\n",
       "      <td>NaN</td>\n",
       "    </tr>\n",
       "    <tr>\n",
       "      <th>15</th>\n",
       "      <td>0.053</td>\n",
       "      <td>110.0</td>\n",
       "      <td>NaN</td>\n",
       "    </tr>\n",
       "    <tr>\n",
       "      <th>16</th>\n",
       "      <td>0.053</td>\n",
       "      <td>120.0</td>\n",
       "      <td>1.116386e+07</td>\n",
       "    </tr>\n",
       "    <tr>\n",
       "      <th>17</th>\n",
       "      <td>0.053</td>\n",
       "      <td>160.0</td>\n",
       "      <td>1.110782e+07</td>\n",
       "    </tr>\n",
       "    <tr>\n",
       "      <th>18</th>\n",
       "      <td>0.053</td>\n",
       "      <td>240.0</td>\n",
       "      <td>1.262400e+07</td>\n",
       "    </tr>\n",
       "  </tbody>\n",
       "</table>\n",
       "</div>"
      ],
      "text/plain": [
       "            h      T          beta\n",
       "sample                            \n",
       "0       0.023  133.0  1.449026e+07\n",
       "1       0.023  240.0  2.065100e+07\n",
       "2       0.033   67.0  9.256365e+06\n",
       "3       0.033   83.0           NaN\n",
       "4       0.033   87.0  9.510436e+06\n",
       "5       0.033  120.0  1.238600e+07\n",
       "6       0.033  240.0  1.551260e+07\n",
       "7       0.043   67.0  1.010860e+07\n",
       "8       0.043  110.0  1.067022e+07\n",
       "9       0.043  150.0           NaN\n",
       "10      0.043  160.0  1.180217e+07\n",
       "11      0.043  240.0  1.296591e+07\n",
       "12      0.053   67.0  1.058155e+07\n",
       "13      0.053   90.0           NaN\n",
       "14      0.053  100.0           NaN\n",
       "15      0.053  110.0           NaN\n",
       "16      0.053  120.0  1.116386e+07\n",
       "17      0.053  160.0  1.110782e+07\n",
       "18      0.053  240.0  1.262400e+07"
      ]
     },
     "execution_count": 2,
     "metadata": {},
     "output_type": "execute_result"
    }
   ],
   "source": [
    "beta_df=pd.read_csv('beta_data.csv',index_col='sample')\n",
    "beta_df"
   ]
  },
  {
   "cell_type": "markdown",
   "metadata": {},
   "source": [
    "This allows us to approximate the $RPM_0$ required to achieve a desired $U_0=Q_0/(hw)$ where $w$ is the width of the working section"
   ]
  },
  {
   "cell_type": "markdown",
   "metadata": {},
   "source": [
    "Rearranging and substituting for $U_0$ gives\n",
    "\n",
    "$RPM_0=\\sqrt{\\frac{\\beta~U_0~4\\omega~h~w}{\\pi}}$\n"
   ]
  },
  {
   "cell_type": "markdown",
   "metadata": {},
   "source": [
    "Finally we need to allow for the programmed conversion factor of motor RPM to control system voltage (on a scale of 600RPM = 10V), which is the actual required input\n",
    "\n",
    "Selecting some input parameters for $U_0$, $h$, and $T$ "
   ]
  },
  {
   "cell_type": "code",
   "execution_count": 3,
   "metadata": {},
   "outputs": [
    {
     "data": {
      "text/html": [
       "<div>\n",
       "<style scoped>\n",
       "    .dataframe tbody tr th:only-of-type {\n",
       "        vertical-align: middle;\n",
       "    }\n",
       "\n",
       "    .dataframe tbody tr th {\n",
       "        vertical-align: top;\n",
       "    }\n",
       "\n",
       "    .dataframe thead th {\n",
       "        text-align: right;\n",
       "    }\n",
       "</style>\n",
       "<table border=\"1\" class=\"dataframe\">\n",
       "  <thead>\n",
       "    <tr style=\"text-align: right;\">\n",
       "      <th></th>\n",
       "      <th>h</th>\n",
       "      <th>T</th>\n",
       "      <th>beta</th>\n",
       "    </tr>\n",
       "    <tr>\n",
       "      <th>sample</th>\n",
       "      <th></th>\n",
       "      <th></th>\n",
       "      <th></th>\n",
       "    </tr>\n",
       "  </thead>\n",
       "  <tbody>\n",
       "    <tr>\n",
       "      <th>8</th>\n",
       "      <td>0.043</td>\n",
       "      <td>110.0</td>\n",
       "      <td>1.067022e+07</td>\n",
       "    </tr>\n",
       "  </tbody>\n",
       "</table>\n",
       "</div>"
      ],
      "text/plain": [
       "            h      T          beta\n",
       "sample                            \n",
       "8       0.043  110.0  1.067022e+07"
      ]
     },
     "execution_count": 3,
     "metadata": {},
     "output_type": "execute_result"
    }
   ],
   "source": [
    "w = 1.83 # width of flume m\n",
    "h = 0.043 # m\n",
    "T = 110.0 # s\n",
    "U0 = 0.05 # m/s\n",
    "#\n",
    "thisSample = beta_df[(beta_df['h']==h) & (beta_df['T']==T)]\n",
    "thisSample"
   ]
  },
  {
   "cell_type": "code",
   "execution_count": 4,
   "metadata": {},
   "outputs": [
    {
     "name": "stdout",
     "output_type": "stream",
     "text": [
      "V0=0.92\n"
     ]
    }
   ],
   "source": [
    "def V0(U0,T,h,beta):\n",
    "    w = 1.83 # hard coded as this wont change often!\n",
    "    om = 2*np.pi / T\n",
    "    rpm=np.sqrt((U0*4.*om*h*w*beta)/(np.pi))\n",
    "    v = rpm/600*10\n",
    "    return v\n",
    "\n",
    "print('V0=%.2f' % V0(U0,T,h,thisSample['beta']))"
   ]
  },
  {
   "cell_type": "markdown",
   "metadata": {},
   "source": [
    "The more challenging task is estimating for combinations of $T$, and $h$ that have not been measured. One approach is bivariate interpolation using a linear or polynomial spline."
   ]
  },
  {
   "cell_type": "code",
   "execution_count": 5,
   "metadata": {},
   "outputs": [],
   "source": [
    "import scipy.interpolate as si "
   ]
  },
  {
   "cell_type": "code",
   "execution_count": 6,
   "metadata": {},
   "outputs": [
    {
     "name": "stdout",
     "output_type": "stream",
     "text": [
      "beta_est=1.06702e+07\n"
     ]
    }
   ],
   "source": [
    "# Construct a bi-linear interpolation object\n",
    "fInt = si.LinearNDInterpolator(beta_df[['h','T']],beta_df['beta'])\n",
    "beta_est = fInt(h,T)\n",
    "print('beta_est=%g' % beta_est)"
   ]
  },
  {
   "cell_type": "code",
   "execution_count": 7,
   "metadata": {},
   "outputs": [
    {
     "name": "stdout",
     "output_type": "stream",
     "text": [
      "V0=1.01\n"
     ]
    }
   ],
   "source": [
    "U0=0.07\n",
    "h=0.04\n",
    "T=120.\n",
    "print('V0=%.2f' % V0(U0,T,h,beta_est))"
   ]
  },
  {
   "cell_type": "markdown",
   "metadata": {},
   "source": [
    "Incorporating the interpolation into the function"
   ]
  },
  {
   "cell_type": "code",
   "execution_count": 8,
   "metadata": {},
   "outputs": [],
   "source": [
    "def V0I(U0,T,h):\n",
    "    w = 1.83 # hard coded as this wont change often!\n",
    "    \n",
    "    beta_est = fInt(h,T)\n",
    "    \n",
    "    om = 2*np.pi / T\n",
    "    rpm=np.sqrt((U0*4.*om*h*w*beta_est)/(np.pi))\n",
    "    v = rpm/600*10\n",
    "    return v"
   ]
  },
  {
   "cell_type": "code",
   "execution_count": 9,
   "metadata": {},
   "outputs": [
    {
     "name": "stdout",
     "output_type": "stream",
     "text": [
      "V0=0.95\n"
     ]
    }
   ],
   "source": [
    "U0=0.07\n",
    "h=0.03\n",
    "T=120.\n",
    "print('V0=%.2f' % V0I(U0,T,h))"
   ]
  }
 ],
 "metadata": {
  "kernelspec": {
   "display_name": "Python 3",
   "language": "python",
   "name": "python3"
  },
  "language_info": {
   "codemirror_mode": {
    "name": "ipython",
    "version": 3
   },
   "file_extension": ".py",
   "mimetype": "text/x-python",
   "name": "python",
   "nbconvert_exporter": "python",
   "pygments_lexer": "ipython3",
   "version": "3.6.4"
  }
 },
 "nbformat": 4,
 "nbformat_minor": 2
}
